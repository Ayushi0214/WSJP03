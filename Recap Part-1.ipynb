{
 "cells": [
  {
   "cell_type": "code",
   "execution_count": 2,
   "id": "59c11667",
   "metadata": {},
   "outputs": [
    {
     "name": "stdout",
     "output_type": "stream",
     "text": [
      "Hello it's goint to rain\n",
      "hello\n",
      "hi \n",
      "bye\n"
     ]
    }
   ],
   "source": [
    "print(\"Hello it's going to rain\")\n",
    "print(\"\"\"hello\n",
    "hi \n",
    "bye\"\"\")"
   ]
  },
  {
   "cell_type": "code",
   "execution_count": 3,
   "id": "8a4974cd",
   "metadata": {},
   "outputs": [
    {
     "name": "stdout",
     "output_type": "stream",
     "text": [
      "30\n"
     ]
    }
   ],
   "source": [
    "#Variables \n",
    "a = 40\n",
    "a = a-10\n",
    "print(a)\n"
   ]
  },
  {
   "cell_type": "code",
   "execution_count": 8,
   "id": "be53f83e",
   "metadata": {},
   "outputs": [
    {
     "name": "stdout",
     "output_type": "stream",
     "text": [
      "<class 'bool'>\n"
     ]
    }
   ],
   "source": [
    "a = \"True\"\n",
    "print(type(a))"
   ]
  },
  {
   "cell_type": "code",
   "execution_count": 9,
   "id": "3d865036",
   "metadata": {},
   "outputs": [
    {
     "name": "stdout",
     "output_type": "stream",
     "text": [
      "enter name: ayushi\n",
      "ayushi\n",
      "<class 'str'>\n"
     ]
    }
   ],
   "source": [
    "name = input(\"enter name: \")\n",
    "print(name)\n",
    "print(type(name))"
   ]
  },
  {
   "cell_type": "code",
   "execution_count": 13,
   "id": "04e4090c",
   "metadata": {},
   "outputs": [
    {
     "name": "stdout",
     "output_type": "stream",
     "text": [
      "enter number: 45\n",
      "45.0\n",
      "<class 'float'>\n"
     ]
    }
   ],
   "source": [
    "num = float(input(\"enter number: \"))\n",
    "print(num)\n",
    "print(type(num))"
   ]
  },
  {
   "cell_type": "code",
   "execution_count": 14,
   "id": "4576ad04",
   "metadata": {},
   "outputs": [
    {
     "name": "stdout",
     "output_type": "stream",
     "text": [
      "17.0\n"
     ]
    }
   ],
   "source": [
    "#Type conversion/type casting \n",
    "#inplicit explicit\n",
    "\n",
    "\n",
    "a = 34\n",
    "b = 2\n",
    "print(a/b)"
   ]
  },
  {
   "cell_type": "code",
   "execution_count": 16,
   "id": "52de6abd",
   "metadata": {},
   "outputs": [
    {
     "name": "stdout",
     "output_type": "stream",
     "text": [
      "<class 'int'>\n",
      "<class 'float'>\n"
     ]
    }
   ],
   "source": [
    "a = 34\n",
    "print(type(a))\n",
    "a = float(a)\n",
    "print(type(a))"
   ]
  },
  {
   "cell_type": "code",
   "execution_count": 23,
   "id": "6b3897dd",
   "metadata": {},
   "outputs": [
    {
     "name": "stdout",
     "output_type": "stream",
     "text": [
      "125\n"
     ]
    }
   ],
   "source": [
    "#Operators\n",
    "#Arithmetic Operators (+, -, *, /, //, %, **)\n",
    "print(5**3) "
   ]
  },
  {
   "cell_type": "code",
   "execution_count": 27,
   "id": "d2ea7283",
   "metadata": {},
   "outputs": [
    {
     "name": "stdout",
     "output_type": "stream",
     "text": [
      "True\n"
     ]
    }
   ],
   "source": [
    "#Comparison Operators (==, !=, >, <, >=, <=)\n",
    "a = 5\n",
    "b = 7\n",
    "print(a<b)"
   ]
  },
  {
   "cell_type": "code",
   "execution_count": 32,
   "id": "fb9a120c",
   "metadata": {},
   "outputs": [
    {
     "name": "stdout",
     "output_type": "stream",
     "text": [
      "xyz\n"
     ]
    }
   ],
   "source": [
    "#Logical Operators (and, or , not)\n",
    "salary = 75000\n",
    "\n",
    "if not(salary > 50000 or salary > 100000) :\n",
    "    print(\"party\")\n",
    "else:\n",
    "    print(\"xyz\")\n",
    "    \n",
    "\n"
   ]
  },
  {
   "cell_type": "code",
   "execution_count": 38,
   "id": "4acd6369",
   "metadata": {},
   "outputs": [
    {
     "name": "stdout",
     "output_type": "stream",
     "text": [
      "10000\n"
     ]
    }
   ],
   "source": [
    "#Assignment Operators (=, +=, -=, *=)\n",
    "amount = 200\n",
    "amount *= 50\n",
    "print(amount)\n"
   ]
  },
  {
   "cell_type": "code",
   "execution_count": 42,
   "id": "cca91557",
   "metadata": {},
   "outputs": [
    {
     "name": "stdout",
     "output_type": "stream",
     "text": [
      "True\n",
      "False\n"
     ]
    }
   ],
   "source": [
    "#Membership Operators (in, not in)\n",
    "\n",
    "fruits = [\"apple\",'mango',\"kiwi\"]\n",
    "print(\"banana\" not in fruits)\n",
    "\n",
    "name = \"wscubetech\"\n",
    "print(\"b\" not in name)"
   ]
  },
  {
   "cell_type": "code",
   "execution_count": 46,
   "id": "fdfd133c",
   "metadata": {},
   "outputs": [
    {
     "name": "stdout",
     "output_type": "stream",
     "text": [
      "False\n"
     ]
    }
   ],
   "source": [
    "#Identity Operators (is, is not)\n",
    "\n",
    "a = 34\n",
    "b = 34.0\n",
    "print(a is b)"
   ]
  },
  {
   "cell_type": "code",
   "execution_count": 57,
   "id": "842fa08c",
   "metadata": {},
   "outputs": [
    {
     "name": "stdout",
     "output_type": "stream",
     "text": [
      "zero se divide nahi krna\n",
      "hello\n"
     ]
    }
   ],
   "source": [
    "#Conditional Statements \n",
    "\n",
    "marks = 80\n",
    "\n",
    "try:\n",
    "    print(56/0)\n",
    "except:\n",
    "    print(\"zero se divide nahi krna\")\n",
    "    \n",
    "print(\"hello\")"
   ]
  },
  {
   "cell_type": "code",
   "execution_count": 62,
   "id": "37bf8061",
   "metadata": {},
   "outputs": [
    {
     "name": "stdout",
     "output_type": "stream",
     "text": [
      "fail\n"
     ]
    }
   ],
   "source": [
    "marks = 70\n",
    "\n",
    "if marks > 75:\n",
    "    print(\"pass\")\n",
    "else:\n",
    "    print(\"fail\")"
   ]
  },
  {
   "cell_type": "code",
   "execution_count": 65,
   "id": "f1ed2d43",
   "metadata": {},
   "outputs": [
    {
     "name": "stdout",
     "output_type": "stream",
     "text": [
      "3 digit\n"
     ]
    }
   ],
   "source": [
    "num = 345\n",
    "\n",
    "if num >= 0 and num <=9:\n",
    "    print(\"1 digit\")\n",
    "elif num >=10 and num <=99:\n",
    "    print(\"2 digit\")\n",
    "else:\n",
    "    print(\"3 digit\")"
   ]
  },
  {
   "cell_type": "markdown",
   "id": "5d458891",
   "metadata": {},
   "source": [
    "##### Nested if \n",
    "\n",
    "usernames = [\"John\",\"Peter\",\"David\"]\n",
    "password = 12345\n",
    "\n",
    "user = input(\"enter username: \")\n",
    "if user in usernames:\n",
    "    ps = int(input(\"enter password: \"))\n",
    "    if ps == password:\n",
    "        print(\"login successful\")\n",
    "    else:\n",
    "        print(\"incorrect password\")\n",
    "else:\n",
    "    print(\"incorrect username\")"
   ]
  },
  {
   "cell_type": "code",
   "execution_count": 77,
   "id": "3c5b0a1f",
   "metadata": {},
   "outputs": [
    {
     "name": "stdout",
     "output_type": "stream",
     "text": [
      "fail\n"
     ]
    }
   ],
   "source": [
    "marks = 56\n",
    "print(\"pass\") if marks > 75 else print(\"fail\")"
   ]
  },
  {
   "cell_type": "code",
   "execution_count": null,
   "id": "740eb284",
   "metadata": {},
   "outputs": [],
   "source": []
  }
 ],
 "metadata": {
  "kernelspec": {
   "display_name": "Python 3 (ipykernel)",
   "language": "python",
   "name": "python3"
  },
  "language_info": {
   "codemirror_mode": {
    "name": "ipython",
    "version": 3
   },
   "file_extension": ".py",
   "mimetype": "text/x-python",
   "name": "python",
   "nbconvert_exporter": "python",
   "pygments_lexer": "ipython3",
   "version": "3.11.3"
  }
 },
 "nbformat": 4,
 "nbformat_minor": 5
}
