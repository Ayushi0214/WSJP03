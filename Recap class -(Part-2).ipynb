{
 "cells": [
  {
   "cell_type": "code",
   "execution_count": 2,
   "id": "5a9fd43b",
   "metadata": {},
   "outputs": [
    {
     "name": "stdout",
     "output_type": "stream",
     "text": [
      "w\n",
      "s\n",
      "c\n",
      "u\n",
      "b\n",
      "e\n",
      "t\n",
      "e\n",
      "c\n",
      "h\n"
     ]
    }
   ],
   "source": [
    "#Loops\n",
    "#For Loops\n",
    "a = \"wscubetech\"\n",
    "for xyz in a:\n",
    "    print(xyz)"
   ]
  },
  {
   "cell_type": "code",
   "execution_count": 3,
   "id": "98ec7511",
   "metadata": {},
   "outputs": [
    {
     "name": "stdout",
     "output_type": "stream",
     "text": [
      "apple\n",
      "mango\n",
      "banana\n"
     ]
    }
   ],
   "source": [
    "fruits = [\"apple\",'mango',\"banana\"]\n",
    "for i in fruits:\n",
    "    print(i)"
   ]
  },
  {
   "cell_type": "code",
   "execution_count": 11,
   "id": "eae0ad67",
   "metadata": {},
   "outputs": [
    {
     "name": "stdout",
     "output_type": "stream",
     "text": [
      "5\n",
      "6\n",
      "7\n",
      "8\n",
      "9\n",
      "10\n"
     ]
    }
   ],
   "source": [
    "#Range (start,stop+1,step(default value is 1))\n",
    "\n",
    "for i in range(5,11):\n",
    "    print(i)\n"
   ]
  },
  {
   "cell_type": "code",
   "execution_count": 12,
   "id": "c2081d3d",
   "metadata": {},
   "outputs": [
    {
     "name": "stdout",
     "output_type": "stream",
     "text": [
      "10\n",
      "9\n",
      "8\n",
      "7\n",
      "6\n",
      "5\n",
      "4\n",
      "3\n",
      "2\n",
      "1\n"
     ]
    }
   ],
   "source": [
    "for i in range(10,0,-1):\n",
    "    print(i)"
   ]
  },
  {
   "cell_type": "code",
   "execution_count": 14,
   "id": "16be2ee1",
   "metadata": {},
   "outputs": [
    {
     "name": "stdout",
     "output_type": "stream",
     "text": [
      "12 x 1 = 12\n",
      "12 x 2 = 24\n",
      "12 x 3 = 36\n",
      "12 x 4 = 48\n",
      "12 x 5 = 60\n",
      "12 x 6 = 72\n",
      "12 x 7 = 84\n",
      "12 x 8 = 96\n",
      "12 x 9 = 108\n",
      "12 x 10 = 120\n"
     ]
    }
   ],
   "source": [
    "#12 x 1 = 12\n",
    "# 12 x 2 = 24\n",
    "for i in range(1,11):\n",
    "    print(12,'x',i,\"=\",12*i)"
   ]
  },
  {
   "cell_type": "code",
   "execution_count": 17,
   "id": "70c05fc8",
   "metadata": {},
   "outputs": [
    {
     "name": "stdout",
     "output_type": "stream",
     "text": [
      "1\n",
      "3\n",
      "5\n",
      "7\n",
      "9\n"
     ]
    }
   ],
   "source": [
    "#while \n",
    "a = 1\n",
    "while a <=10:\n",
    "    print(a)\n",
    "    a +=2"
   ]
  },
  {
   "cell_type": "code",
   "execution_count": 19,
   "id": "fc0ce643",
   "metadata": {},
   "outputs": [
    {
     "name": "stdout",
     "output_type": "stream",
     "text": [
      "12 x 1 = 12\n",
      "12 x 2 = 24\n",
      "12 x 3 = 36\n",
      "12 x 4 = 48\n",
      "12 x 5 = 60\n",
      "12 x 6 = 72\n",
      "12 x 7 = 84\n",
      "12 x 8 = 96\n",
      "12 x 9 = 108\n",
      "12 x 10 = 120\n"
     ]
    }
   ],
   "source": [
    "a = 1\n",
    "while a <=10:\n",
    "    print(12,'x',a,\"=\",12*a)\n",
    "    a +=1"
   ]
  },
  {
   "cell_type": "code",
   "execution_count": 20,
   "id": "4663f235",
   "metadata": {},
   "outputs": [
    {
     "name": "stdout",
     "output_type": "stream",
     "text": [
      "enter a number: 12\n",
      "enter a number: 45\n",
      "57\n",
      "do you want to add more number? yes\n",
      "enter a number: 34\n",
      "enter a number: 67\n",
      "101\n",
      "do you want to add more number? yes\n",
      "enter a number: 97\n",
      "enter a number: 46\n",
      "143\n",
      "do you want to add more number? no\n"
     ]
    }
   ],
   "source": [
    "repeat = \"yes\"\n",
    "while repeat == \"yes\":\n",
    "    num1 = int(input(\"enter a number: \"))\n",
    "    num2 = int(input(\"enter a number: \"))\n",
    "    print(num1+num2)\n",
    "    \n",
    "    repeat = input('do you want to add more number? ')"
   ]
  },
  {
   "cell_type": "code",
   "execution_count": 26,
   "id": "5bc3fe99",
   "metadata": {},
   "outputs": [
    {
     "name": "stdout",
     "output_type": "stream",
     "text": [
      "playing song number 1\n",
      "playing song number 2\n",
      "playing song number 4\n",
      "playing song number 6\n",
      "playing song number 7\n",
      "playing song number 9\n",
      "playing song number 10\n",
      "playing song number 13\n",
      "playing song number 14\n",
      "playing song number 15\n"
     ]
    }
   ],
   "source": [
    "#break \n",
    "#continue\n",
    "\n",
    "for i in range(1,16):\n",
    "    if i in [3,5,8,11,12]:\n",
    "        continue\n",
    "    else:\n",
    "        print(\"playing song number\",i)"
   ]
  },
  {
   "cell_type": "code",
   "execution_count": 29,
   "id": "685ebb67",
   "metadata": {},
   "outputs": [
    {
     "name": "stdout",
     "output_type": "stream",
     "text": [
      "U\n",
      "e\n",
      "e\n"
     ]
    }
   ],
   "source": [
    "a = \"wscUbetech\"\n",
    "\n",
    "for i in a:\n",
    "    if i in \"aeiouAEIOU\" :\n",
    "        print(i)"
   ]
  },
  {
   "cell_type": "code",
   "execution_count": 32,
   "id": "789a4786",
   "metadata": {},
   "outputs": [
    {
     "name": "stdout",
     "output_type": "stream",
     "text": [
      "enter a number: 34\n",
      "enter a number: 56\n",
      "90\n",
      "do you want to repeat again?: yes\n",
      "enter a number: 35\n",
      "enter a number: 56\n",
      "91\n",
      "do you want to repeat again?: ayushi\n",
      "enter a number: 45\n",
      "enter a number: 67\n",
      "112\n",
      "do you want to repeat again?: NO\n"
     ]
    }
   ],
   "source": [
    "#infinite true\n",
    "while True: \n",
    "    num1 = int(input(\"enter a number: \"))\n",
    "    num2 = int(input(\"enter a number: \"))\n",
    "    print(num1+num2)\n",
    "    \n",
    "    repeat = input('do you want to repeat again?: ')\n",
    "    if repeat in [\"no\",\"No\",\"NO\"]:\n",
    "        break\n",
    "    "
   ]
  },
  {
   "cell_type": "code",
   "execution_count": 36,
   "id": "597b69f2",
   "metadata": {},
   "outputs": [
    {
     "name": "stdout",
     "output_type": "stream",
     "text": [
      "where do you want to fire cracker? jaipur\n",
      "you cannot\n",
      "where do you want to fire cracker? MP\n",
      "you can\n",
      "where do you want to fire cracker? gurugram\n",
      "you cannot\n"
     ]
    },
    {
     "ename": "KeyboardInterrupt",
     "evalue": "Interrupted by user",
     "output_type": "error",
     "traceback": [
      "\u001b[1;31m---------------------------------------------------------------------------\u001b[0m",
      "\u001b[1;31mKeyboardInterrupt\u001b[0m                         Traceback (most recent call last)",
      "Cell \u001b[1;32mIn[36], line 2\u001b[0m\n\u001b[0;32m      1\u001b[0m \u001b[38;5;28;01mwhile\u001b[39;00m \u001b[38;5;28;01mTrue\u001b[39;00m:\n\u001b[1;32m----> 2\u001b[0m     crackers \u001b[38;5;241m=\u001b[39m \u001b[38;5;28;43minput\u001b[39;49m\u001b[43m(\u001b[49m\u001b[38;5;124;43m'\u001b[39;49m\u001b[38;5;124;43mwhere do you want to fire cracker? \u001b[39;49m\u001b[38;5;124;43m'\u001b[39;49m\u001b[43m)\u001b[49m\n\u001b[0;32m      3\u001b[0m     \u001b[38;5;28;01mif\u001b[39;00m crackers \u001b[38;5;241m==\u001b[39m \u001b[38;5;124m\"\u001b[39m\u001b[38;5;124mMP\u001b[39m\u001b[38;5;124m\"\u001b[39m:\n\u001b[0;32m      4\u001b[0m         \u001b[38;5;28mprint\u001b[39m(\u001b[38;5;124m\"\u001b[39m\u001b[38;5;124myou can\u001b[39m\u001b[38;5;124m\"\u001b[39m)\n",
      "File \u001b[1;32m~\\AppData\\Local\\Programs\\Python\\Python311\\Lib\\site-packages\\ipykernel\\kernelbase.py:1191\u001b[0m, in \u001b[0;36mKernel.raw_input\u001b[1;34m(self, prompt)\u001b[0m\n\u001b[0;32m   1189\u001b[0m     msg \u001b[38;5;241m=\u001b[39m \u001b[38;5;124m\"\u001b[39m\u001b[38;5;124mraw_input was called, but this frontend does not support input requests.\u001b[39m\u001b[38;5;124m\"\u001b[39m\n\u001b[0;32m   1190\u001b[0m     \u001b[38;5;28;01mraise\u001b[39;00m StdinNotImplementedError(msg)\n\u001b[1;32m-> 1191\u001b[0m \u001b[38;5;28;01mreturn\u001b[39;00m \u001b[38;5;28;43mself\u001b[39;49m\u001b[38;5;241;43m.\u001b[39;49m\u001b[43m_input_request\u001b[49m\u001b[43m(\u001b[49m\n\u001b[0;32m   1192\u001b[0m \u001b[43m    \u001b[49m\u001b[38;5;28;43mstr\u001b[39;49m\u001b[43m(\u001b[49m\u001b[43mprompt\u001b[49m\u001b[43m)\u001b[49m\u001b[43m,\u001b[49m\n\u001b[0;32m   1193\u001b[0m \u001b[43m    \u001b[49m\u001b[38;5;28;43mself\u001b[39;49m\u001b[38;5;241;43m.\u001b[39;49m\u001b[43m_parent_ident\u001b[49m\u001b[43m[\u001b[49m\u001b[38;5;124;43m\"\u001b[39;49m\u001b[38;5;124;43mshell\u001b[39;49m\u001b[38;5;124;43m\"\u001b[39;49m\u001b[43m]\u001b[49m\u001b[43m,\u001b[49m\n\u001b[0;32m   1194\u001b[0m \u001b[43m    \u001b[49m\u001b[38;5;28;43mself\u001b[39;49m\u001b[38;5;241;43m.\u001b[39;49m\u001b[43mget_parent\u001b[49m\u001b[43m(\u001b[49m\u001b[38;5;124;43m\"\u001b[39;49m\u001b[38;5;124;43mshell\u001b[39;49m\u001b[38;5;124;43m\"\u001b[39;49m\u001b[43m)\u001b[49m\u001b[43m,\u001b[49m\n\u001b[0;32m   1195\u001b[0m \u001b[43m    \u001b[49m\u001b[43mpassword\u001b[49m\u001b[38;5;241;43m=\u001b[39;49m\u001b[38;5;28;43;01mFalse\u001b[39;49;00m\u001b[43m,\u001b[49m\n\u001b[0;32m   1196\u001b[0m \u001b[43m\u001b[49m\u001b[43m)\u001b[49m\n",
      "File \u001b[1;32m~\\AppData\\Local\\Programs\\Python\\Python311\\Lib\\site-packages\\ipykernel\\kernelbase.py:1234\u001b[0m, in \u001b[0;36mKernel._input_request\u001b[1;34m(self, prompt, ident, parent, password)\u001b[0m\n\u001b[0;32m   1231\u001b[0m \u001b[38;5;28;01mexcept\u001b[39;00m \u001b[38;5;167;01mKeyboardInterrupt\u001b[39;00m:\n\u001b[0;32m   1232\u001b[0m     \u001b[38;5;66;03m# re-raise KeyboardInterrupt, to truncate traceback\u001b[39;00m\n\u001b[0;32m   1233\u001b[0m     msg \u001b[38;5;241m=\u001b[39m \u001b[38;5;124m\"\u001b[39m\u001b[38;5;124mInterrupted by user\u001b[39m\u001b[38;5;124m\"\u001b[39m\n\u001b[1;32m-> 1234\u001b[0m     \u001b[38;5;28;01mraise\u001b[39;00m \u001b[38;5;167;01mKeyboardInterrupt\u001b[39;00m(msg) \u001b[38;5;28;01mfrom\u001b[39;00m \u001b[38;5;28mNone\u001b[39m\n\u001b[0;32m   1235\u001b[0m \u001b[38;5;28;01mexcept\u001b[39;00m \u001b[38;5;167;01mException\u001b[39;00m:\n\u001b[0;32m   1236\u001b[0m     \u001b[38;5;28mself\u001b[39m\u001b[38;5;241m.\u001b[39mlog\u001b[38;5;241m.\u001b[39mwarning(\u001b[38;5;124m\"\u001b[39m\u001b[38;5;124mInvalid Message:\u001b[39m\u001b[38;5;124m\"\u001b[39m, exc_info\u001b[38;5;241m=\u001b[39m\u001b[38;5;28;01mTrue\u001b[39;00m)\n",
      "\u001b[1;31mKeyboardInterrupt\u001b[0m: Interrupted by user"
     ]
    }
   ],
   "source": [
    "while True:\n",
    "    crackers = input('where do you want to fire cracker? ')\n",
    "    if crackers == \"MP\":\n",
    "        print(\"you can\")\n",
    "    elif crackers in [\"gurugram\",\"jaipur\"]:\n",
    "        print(\"you cannot\")"
   ]
  },
  {
   "cell_type": "code",
   "execution_count": 43,
   "id": "afad94ab",
   "metadata": {},
   "outputs": [
    {
     "name": "stdout",
     "output_type": "stream",
     "text": [
      "1 2 3 4 5 6 7 8 9 10 \n",
      "1 2 3 4 5 6 7 8 9 10 \n",
      "1 2 3 4 5 6 7 8 9 10 \n"
     ]
    }
   ],
   "source": [
    "#Nested Loops\n",
    "\n",
    "for j in range(1,4):\n",
    "    for i in range(1,11):\n",
    "        print(i, end = \" \")\n",
    "    print()"
   ]
  },
  {
   "cell_type": "code",
   "execution_count": null,
   "id": "84a61953",
   "metadata": {},
   "outputs": [
    {
     "name": "stdout",
     "output_type": "stream",
     "text": [
      "enter name: ayushi\n",
      "Available seats are\n",
      "    normal - 1550 each\n",
      "    vip - 12000 each\n",
      "    premium - 10000 each\n",
      "enter the type of seat you want to buy: normal\n",
      "enter the number of seats you want to buy: 4\n",
      "do you want to add a coombo of rs 1000? yes\n",
      "Total amount is 7200\n"
     ]
    }
   ],
   "source": [
    "stadium = 1000\n",
    "\n",
    "\n",
    "premium = 50\n",
    "normal = 900\n",
    "vip = 50\n",
    "\n",
    "nprice = 1550\n",
    "vprice = 12000\n",
    "pprice = 10000\n",
    "comboprice = 1000\n",
    "comboprice_vip = 1500\n",
    "\n",
    "while True:\n",
    "    name = input(\"enter name: \")\n",
    "    total = 0\n",
    "    \n",
    "    print(\"\"\"Available seats are\n",
    "    normal - 1550 each\n",
    "    vip - 12000 each\n",
    "    premium - 10000 each\"\"\")\n",
    "    seat_type = input(\"enter the type of seat you want to buy: \").lower()\n",
    "    seats = int(input(\"enter the number of seats you want to buy: \"))\n",
    "    \n",
    "    if seat_type == \"normal\":\n",
    "        total += nprice*seats\n",
    "        combo = input(\"do you want to add a coombo of rs 1000? \")\n",
    "        if combo in [\"yes\", \"Yes\",\"YES\"]:\n",
    "            total += comboprice\n",
    "        print(\"Total amount is\", total)\n",
    "        \n"
   ]
  }
 ],
 "metadata": {
  "kernelspec": {
   "display_name": "Python 3 (ipykernel)",
   "language": "python",
   "name": "python3"
  },
  "language_info": {
   "codemirror_mode": {
    "name": "ipython",
    "version": 3
   },
   "file_extension": ".py",
   "mimetype": "text/x-python",
   "name": "python",
   "nbconvert_exporter": "python",
   "pygments_lexer": "ipython3",
   "version": "3.11.3"
  }
 },
 "nbformat": 4,
 "nbformat_minor": 5
}
